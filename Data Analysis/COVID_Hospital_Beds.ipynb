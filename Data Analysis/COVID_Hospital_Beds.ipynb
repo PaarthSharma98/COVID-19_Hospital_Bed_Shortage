{
 "cells": [
  {
   "cell_type": "code",
   "execution_count": null,
   "metadata": {},
   "outputs": [],
   "source": [
    "import pandas as pd\n",
    "import numpy as np \n",
    "import plotly.express as px \n",
    "from urllib.request import urlopen\n",
    "import json"
   ]
  },
  {
   "cell_type": "code",
   "execution_count": null,
   "metadata": {},
   "outputs": [],
   "source": [
    "covid19_data = \"https://raw.githubusercontent.com/CSSEGISandData/COVID-19/master/csse_covid_19_data/csse_covid_19_daily_reports/04-20-2020.csv\"\n",
    "df_covid19_confirmed = pd.read_csv(covid19_data)\n",
    "df_covid19_confirmed = df_covid19_confirmed[df_covid19_confirmed[\"Country_Region\"]== \"US\"]\n",
    "df_covid19_confirmed = df_covid19_confirmed.iloc[:, [0,7,10]]\n",
    "df_covid19_confirmed = df_covid19_confirmed[df_covid19_confirmed[\"FIPS\"].notnull()]\n",
    "df_covid19_confirmed[\"FIPS\"] = df_covid19_confirmed[\"FIPS\"].astype(int)\n",
    "df_covid19_confirmed[\"FIPS\"] = df_covid19_confirmed[\"FIPS\"].astype(str)\n",
    "df_covid19_confirmed[\"FIPS\"] = df_covid19_confirmed[\"FIPS\"].str.zfill(5)\n",
    "df_covid19_confirmed.sort_values('FIPS')\n",
    "df_covid19_confirmed.head()"
   ]
  },
  {
   "cell_type": "code",
   "execution_count": null,
   "metadata": {},
   "outputs": [],
   "source": [
    "df_hospitalBed_data = pd.read_csv(\"Hospitals.csv\")\n",
    "#df_hospitalBed_data.sort_values(by=['CITY'], ascending=True)\n",
    "df_hospitalBed_data = df_hospitalBed_data.iloc[:, [15, 31]]\n",
    "df_hospitalBed_data.dropna(inplace=True)\n",
    "df_hospitalBed_data = df_hospitalBed_data[df_hospitalBed_data != \"NOT AVAILABLE\"]\n",
    "df_hospitalBed_data = df_hospitalBed_data[df_hospitalBed_data[\"COUNTYFIPS\"].notnull()]\n",
    "df_hospitalBed_data[\"COUNTYFIPS\"] = pd.to_numeric(df_hospitalBed_data[\"COUNTYFIPS\"], downcast=\"float\")\n",
    "df_hospitalBed_data[\"COUNTYFIPS\"] = df_hospitalBed_data[\"COUNTYFIPS\"].astype(int)\n",
    "df_hospitalBed_data[\"COUNTYFIPS\"] = df_hospitalBed_data[\"COUNTYFIPS\"].astype(str)\n",
    "df_hospitalBed_data[\"COUNTYFIPS\"] = df_hospitalBed_data[\"COUNTYFIPS\"].str.zfill(5)\n",
    "df_hospitalBed_data = df_hospitalBed_data.rename(columns={\"COUNTYFIPS\": \"FIPS\"})\n",
    "df_hospitalBed_data = df_hospitalBed_data.set_index('FIPS').sum(level=0).reset_index()\n",
    "df_hospitalBed_data.head()"
   ]
  },
  {
   "cell_type": "code",
   "execution_count": null,
   "metadata": {
    "scrolled": true
   },
   "outputs": [],
   "source": [
    "df_resource_data = pd.merge(df_covid19_confirmed,\n",
    "                           df_hospitalBed_data[[\"FIPS\",\"BEDS\"]],\n",
    "                           on = \"FIPS\",\n",
    "                           how = \"left\")\n",
    "df_resource_data = df_resource_data[df_resource_data[\"BEDS\"].notnull()]\n",
    "df_resource_data.head()"
   ]
  },
  {
   "cell_type": "code",
   "execution_count": null,
   "metadata": {
    "scrolled": false
   },
   "outputs": [],
   "source": [
    "df_resource_data[\"Total Number Bed Needed\"] = -1*((df_resource_data[\"BEDS\"]-df_resource_data[\"Confirmed\"]))\n",
    "df_resource_data[\"Active Number Bed Needed\"] = -1*((df_resource_data[\"BEDS\"]-df_resource_data[\"Active\"]))\n",
    "df_resource_data.head()"
   ]
  },
  {
   "cell_type": "code",
   "execution_count": null,
   "metadata": {},
   "outputs": [],
   "source": [
    "import plotly.figure_factory as ff\n",
    "colorscale = [\"#f7fbff\", \"#ebf3fb\", \"#deebf7\", \"#d2e3f3\", \"#c6dbef\", \"#b3d2e9\", \"#9ecae1\",\n",
    "    \"#85bcdb\", \"#6baed6\", \"#57a0ce\", \"#4292c6\", \"#3082be\", \"#2171b5\", \"#1361a9\",\n",
    "    \"#08519c\", \"#0b4083\", \"#08306b\"\n",
    "]\n",
    "endpts = list(np.linspace(1, 12, len(colorscale) - 1))\n",
    "fips = df_resource_data['FIPS'].tolist()\n",
    "values = df_resource_data['Total Number Bed Needed'].tolist()\n",
    "\n",
    "\n",
    "fig = ff.create_choropleth(\n",
    "    fips=fips, values=values, scope=['usa'],\n",
    "    binning_endpoints=endpts, colorscale=colorscale,\n",
    "    show_state_data=False,\n",
    "    show_hover=True,\n",
    "    plot_bgcolor='rgb(229,229,229)',\n",
    "    paper_bgcolor='rgb(229,229,229)',\n",
    "    asp = 2.9,\n",
    "    title_text = 'Bed Shortage Across US',\n",
    "    legend_title = 'Total Number Bed Needed'\n",
    ")\n",
    "fig.layout.template = None\n",
    "fig.show()"
   ]
  },
  {
   "cell_type": "code",
   "execution_count": null,
   "metadata": {},
   "outputs": [],
   "source": [
    "df_resource_data.to_csv('HW1.zip')  "
   ]
  }
 ],
 "metadata": {
  "kernelspec": {
   "display_name": "Python 3",
   "language": "python",
   "name": "python3"
  },
  "language_info": {
   "codemirror_mode": {
    "name": "ipython",
    "version": 3
   },
   "file_extension": ".py",
   "mimetype": "text/x-python",
   "name": "python",
   "nbconvert_exporter": "python",
   "pygments_lexer": "ipython3",
   "version": "3.7.7"
  }
 },
 "nbformat": 4,
 "nbformat_minor": 4
}
